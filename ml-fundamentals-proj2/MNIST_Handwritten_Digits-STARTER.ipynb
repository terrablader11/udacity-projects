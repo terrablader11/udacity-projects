{
 "cells": [
  {
   "cell_type": "markdown",
   "metadata": {},
   "source": [
    "# Introduction\n",
    "\n",
    "In this project, you will build a neural network of your own design to evaluate the MNIST dataset.\n",
    "\n",
    "Some of the benchmark results on MNIST include can be found [on Yann LeCun's page](http://yann.lecun.com/exdb/mnist/) and include:\n",
    "\n",
    "88% [Lecun et al., 1998](http://yann.lecun.com/exdb/publis/pdf/lecun-98.pdf)\n",
    "95.3% [Lecun et al., 1998](http://yann.lecun.com/exdb/publis/pdf/lecun-98.pdf)\n",
    "99.65% [Ciresan et al., 2011](http://people.idsia.ch/~juergen/ijcai2011.pdf)\n",
    "\n",
    "MNIST is a great dataset for sanity checking your models, since the accuracy levels achieved by large convolutional neural networks and small linear models are both quite high. This makes it important to be familiar with the data.\n",
    "\n",
    "## Imports"
   ]
  },
  {
   "cell_type": "code",
   "execution_count": 1,
   "metadata": {},
   "outputs": [],
   "source": [
    "## This cell contains the essential imports you will need – DO NOT CHANGE THE CONTENTS! ##\n",
    "import torch\n",
    "import torch.nn as nn\n",
    "import torch.nn.functional as F\n",
    "import torch.optim as optim\n",
    "import torchvision\n",
    "import torchvision.transforms as transforms\n",
    "import matplotlib.pyplot as plt\n",
    "import numpy as np"
   ]
  },
  {
   "cell_type": "markdown",
   "metadata": {},
   "source": [
    "## Load the Dataset\n",
    "\n",
    "Specify your transforms as a list if you intend to .\n",
    "The transforms module is already loaded as `transforms`.\n",
    "\n",
    "MNIST is fortunately included in the torchvision module.\n",
    "Then, you can create your dataset using the `MNIST` object from `torchvision.datasets` ([the documentation is available here](https://pytorch.org/vision/stable/datasets.html#mnist)).\n",
    "Make sure to specify `download=True`! \n",
    "\n",
    "Once your dataset is created, you'll also need to define a `DataLoader` from the `torch.utils.data` module for both the train and the test set."
   ]
  },
  {
   "cell_type": "code",
   "execution_count": 2,
   "metadata": {},
   "outputs": [
    {
     "name": "stderr",
     "output_type": "stream",
     "text": [
      "/opt/conda/lib/python3.7/site-packages/torchvision/datasets/mnist.py:498: UserWarning: The given NumPy array is not writable, and PyTorch does not support non-writable tensors. This means writing to this tensor will result in undefined behavior. You may want to copy the array to protect its data or make it writable before converting it to a tensor. This type of warning will be suppressed for the rest of this program. (Triggered internally at  ../torch/csrc/utils/tensor_numpy.cpp:178.)\n",
      "  return torch.from_numpy(parsed.astype(m[2], copy=False)).view(*s)\n"
     ]
    }
   ],
   "source": [
    "transforms = transforms.Compose([transforms.ToTensor(), transforms.Normalize((0.5,), (0.5,)),])\n",
    "\n",
    "mnist_train = torchvision.datasets.MNIST(root='./data', train=True, download=True, transform=transforms)\n",
    "mnist_test = torchvision.datasets.MNIST(root='./data', train=False, download=True, transform=transforms)\n",
    "\n",
    "# Create training set and define training dataloader\n",
    "trainData = torch.utils.data.DataLoader(mnist_train, batch_size=64, shuffle=True)\n",
    "\n",
    "# Create test set and define test dataloader\n",
    "testData = torch.utils.data.DataLoader(mnist_test, batch_size=64, shuffle=True)"
   ]
  },
  {
   "cell_type": "markdown",
   "metadata": {},
   "source": [
    "## Justify your preprocessing\n",
    "\n",
    "In your own words, why did you choose the transforms you chose? If you didn't use any preprocessing steps, why not?"
   ]
  },
  {
   "cell_type": "markdown",
   "metadata": {},
   "source": [
    "I chose the ToTensor() transform in order to convert the image data into numerical data that can be used by NNs. Otherwise, the neural network would not have been able to train on the dataset."
   ]
  },
  {
   "cell_type": "markdown",
   "metadata": {},
   "source": [
    "## Explore the Dataset\n",
    "Using matplotlib, numpy, and torch, explore the dimensions of your data.\n",
    "\n",
    "You can view images using the `show5` function defined below – it takes a data loader as an argument.\n",
    "Remember that normalized images will look really weird to you! You may want to try changing your transforms to view images.\n",
    "Typically using no transforms other than `toTensor()` works well for viewing – but not as well for training your network.\n",
    "If `show5` doesn't work, go back and check your code for creating your data loaders and your training/test sets."
   ]
  },
  {
   "cell_type": "code",
   "execution_count": 3,
   "metadata": {},
   "outputs": [],
   "source": [
    "## This cell contains a function for showing 5 images from a dataloader – DO NOT CHANGE THE CONTENTS! ##\n",
    "def show5(img_loader):\n",
    "    dataiter = iter(img_loader)\n",
    "    \n",
    "    batch = next(dataiter)\n",
    "    labels = batch[1][0:5]\n",
    "    images = batch[0][0:5]\n",
    "    for i in range(5):\n",
    "        print(int(labels[i].detach()))\n",
    "    \n",
    "        image = images[i].numpy()\n",
    "        plt.imshow(image.T.squeeze().T)\n",
    "        plt.show()"
   ]
  },
  {
   "cell_type": "code",
   "execution_count": 4,
   "metadata": {},
   "outputs": [
    {
     "name": "stdout",
     "output_type": "stream",
     "text": [
      "0\n"
     ]
    },
    {
     "data": {
      "image/png": "[encoded data removed]",
      "text/plain": [
       "<Figure size 432x288 with 1 Axes>"
      ]
     },
     "metadata": {
      "needs_background": "light"
     },
     "output_type": "display_data"
    },
    {
     "name": "stdout",
     "output_type": "stream",
     "text": [
      "8\n"
     ]
    },
    {
     "data": {
      "image/png": "[encoded data removed]",
      "text/plain": [
       "<Figure size 432x288 with 1 Axes>"
      ]
     },
     "metadata": {
      "needs_background": "light"
     },
     "output_type": "display_data"
    },
    {
     "name": "stdout",
     "output_type": "stream",
     "text": [
      "2\n"
     ]
    },
    {
     "data": {
      "image/png": "[encoded data removed]",
      "text/plain": [
       "<Figure size 432x288 with 1 Axes>"
      ]
     },
     "metadata": {
      "needs_background": "light"
     },
     "output_type": "display_data"
    },
    {
     "name": "stdout",
     "output_type": "stream",
     "text": [
      "0\n"
     ]
    },
    {
     "data": {
      "image/png": "[encoded data removed]",
      "text/plain": [
       "<Figure size 432x288 with 1 Axes>"
      ]
     },
     "metadata": {
      "needs_background": "light"
     },
     "output_type": "display_data"
    },
    {
     "name": "stdout",
     "output_type": "stream",
     "text": [
      "1\n"
     ]
    },
    {
     "data": {
      "image/png": "[encoded data removed]",
      "text/plain": [
       "<Figure size 432x288 with 1 Axes>"
      ]
     },
     "metadata": {
      "needs_background": "light"
     },
     "output_type": "display_data"
    }
   ],
   "source": [
    "# Explore data\n",
    "show5(trainData)"
   ]
  },
  {
   "cell_type": "markdown",
   "metadata": {},
   "source": [
    "## Build your Neural Network\n",
    "Using the layers in `torch.nn` (which has been imported as `nn`) and the `torch.nn.functional` module (imported as `F`), construct a neural network based on the parameters of the dataset.\n",
    "Use any architecture you like. \n",
    "\n",
    "*Note*: If you did not flatten your tensors in your transforms or as part of your preprocessing and you are using only `Linear` layers, make sure to use the `Flatten` layer in your network!"
   ]
  },
  {
   "cell_type": "code",
   "execution_count": 5,
   "metadata": {},
   "outputs": [],
   "source": [
    "network = nn.Sequential(nn.Flatten(1, -1),\n",
    "                        nn.Linear(784, 256),\n",
    "                        nn.ReLU(),\n",
    "                        nn.Linear(256, 64),\n",
    "                        nn.ReLU(),\n",
    "                        nn.Linear(64, 10),\n",
    "                        nn.LogSoftmax(dim=1))"
   ]
  },
  {
   "cell_type": "markdown",
   "metadata": {},
   "source": [
    "Specify a loss function and an optimizer, and instantiate the model.\n",
    "\n",
    "If you use a less common loss function, please note why you chose that loss function in a comment."
   ]
  },
  {
   "cell_type": "code",
   "execution_count": 6,
   "metadata": {},
   "outputs": [
    {
     "data": {
      "text/plain": [
       "Sequential(\n",
       "  (0): Flatten(start_dim=1, end_dim=-1)\n",
       "  (1): Linear(in_features=784, out_features=256, bias=True)\n",
       "  (2): ReLU()\n",
       "  (3): Linear(in_features=256, out_features=64, bias=True)\n",
       "  (4): ReLU()\n",
       "  (5): Linear(in_features=64, out_features=10, bias=True)\n",
       "  (6): LogSoftmax(dim=1)\n",
       ")"
      ]
     },
     "execution_count": 6,
     "metadata": {},
     "output_type": "execute_result"
    }
   ],
   "source": [
    "device = torch.device(\"cuda\" if torch.cuda.is_available() else \"cpu\")\n",
    "\n",
    "optimizer = optim.SGD(network.parameters(), lr=0.005, momentum=0.5)\n",
    "criterion = nn.NLLLoss()\n",
    "\n",
    "network.to(device)"
   ]
  },
  {
   "cell_type": "markdown",
   "metadata": {},
   "source": [
    "## Running your Neural Network\n",
    "Use whatever method you like to train your neural network, and ensure you record the average loss at each epoch. \n",
    "Don't forget to use `torch.device()` and the `.to()` method for both your model and your data if you are using GPU!\n",
    "\n",
    "If you want to print your loss **during** each epoch, you can use the `enumerate` function and print the loss after a set number of batches. 250 batches works well for most people!"
   ]
  },
  {
   "cell_type": "code",
   "execution_count": 11,
   "metadata": {},
   "outputs": [
    {
     "name": "stdout",
     "output_type": "stream",
     "text": [
      "Epoch 0 - Training Loss:  0.33382362035959007\n",
      "Epoch 1 - Training Loss:  0.29960283339182453\n",
      "Epoch 2 - Training Loss:  0.27277945457840524\n",
      "Epoch 3 - Training Loss:  0.2505849048828901\n",
      "Epoch 4 - Training Loss:  0.22961727171135482\n",
      "Epoch 5 - Training Loss:  0.2097288052053022\n",
      "Epoch 6 - Training Loss:  0.1920716211255362\n",
      "Epoch 7 - Training Loss:  0.17673914654375011\n",
      "Epoch 8 - Training Loss:  0.16264651057673796\n",
      "Epoch 9 - Training Loss:  0.15060391955609834\n",
      "Epoch 10 - Training Loss:  0.13972044367887287\n",
      "Epoch 11 - Training Loss:  0.13024629755561223\n",
      "Epoch 12 - Training Loss:  0.12201750298429813\n",
      "Epoch 13 - Training Loss:  0.11394009944686947\n",
      "Epoch 14 - Training Loss:  0.10717910759722882\n"
     ]
    }
   ],
   "source": [
    "epochs = 15\n",
    "losses = []\n",
    "\n",
    "for e in range(epochs):\n",
    "    running_loss = 0\n",
    "    for images, labels in trainData:\n",
    "        images, labels = images.to(device), labels.to(device)\n",
    "        optimizer.zero_grad()\n",
    "        \n",
    "        output = network(images)\n",
    "        loss = criterion(output, labels)\n",
    "        loss.backward()\n",
    "        optimizer.step()\n",
    "        running_loss += loss.item()\n",
    "        \n",
    "    else:\n",
    "        print(\"Epoch\", e+1, \"- Training Loss: \", running_loss/len(trainData))\n",
    "        losses.append(running_loss/len(trainData))"
   ]
  },
  {
   "cell_type": "markdown",
   "metadata": {},
   "source": [
    "Plot the training loss (and validation loss/accuracy, if recorded)."
   ]
  },
  {
   "cell_type": "code",
   "execution_count": 15,
   "metadata": {},
   "outputs": [
    {
     "data": {
      "image/png": "[encoded data removed]",
      "text/plain": [
       "<Figure size 432x288 with 1 Axes>"
      ]
     },
     "metadata": {
      "needs_background": "light"
     },
     "output_type": "display_data"
    }
   ],
   "source": [
    "plt.plot(losses);\n",
    "plt.title(\"Training Loss over Time\");\n",
    "plt.xlabel(\"Epoch Number\");\n",
    "plt.ylabel(\"Training Loss\");"
   ]
  },
  {
   "cell_type": "markdown",
   "metadata": {},
   "source": [
    "## Testing your model\n",
    "Using the previously created `DataLoader` for the test set, compute the percentage of correct predictions using the highest probability prediction. \n",
    "\n",
    "If your accuracy is over 90%, great work, but see if you can push a bit further! \n",
    "If your accuracy is under 90%, you'll need to make improvements.\n",
    "Go back and check your model architecture, loss function, and optimizer to make sure they're appropriate for an image classification task."
   ]
  },
  {
   "cell_type": "code",
   "execution_count": 21,
   "metadata": {},
   "outputs": [
    {
     "name": "stdout",
     "output_type": "stream",
     "text": [
      "Accuracy: 96.52 %\n",
      "Number Correct: 9652 Total: 10000\n"
     ]
    }
   ],
   "source": [
    "correct = total = 0\n",
    "\n",
    "for images, labels in testData:\n",
    "  for i in range(len(labels)):\n",
    "    img = images[i].view(1, 784)\n",
    "    with torch.no_grad():\n",
    "        logprobs = network(img.cuda())\n",
    "\n",
    "    probs = torch.exp(logprobs)\n",
    "    probablist = list(probs.cpu().numpy()[0])\n",
    "    pred_label = probablist.index(max(probablist))\n",
    "    true_label = labels.numpy()[i]\n",
    "    \n",
    "    if(true_label == pred_label):\n",
    "      correct += 1\n",
    "    total += 1\n",
    "\n",
    "print(\"Accuracy:\", round(correct/total*100, 2), \"%\")\n",
    "print(\"Number Correct:\", correct, \"Total:\", total)"
   ]
  },
  {
   "cell_type": "markdown",
   "metadata": {},
   "source": [
    "## Improving your model\n",
    "\n",
    "Once your model is done training, try tweaking your hyperparameters and training again below to improve your accuracy on the test set!"
   ]
  },
  {
   "cell_type": "code",
   "execution_count": 22,
   "metadata": {},
   "outputs": [
    {
     "name": "stdout",
     "output_type": "stream",
     "text": [
      "Epoch 1 - Training Loss:  1.6887955642712396\n",
      "Epoch 2 - Training Loss:  0.5297586738999719\n",
      "Epoch 3 - Training Loss:  0.3900444884576015\n",
      "Epoch 4 - Training Loss:  0.33752453178643926\n",
      "Epoch 5 - Training Loss:  0.29904530089356496\n",
      "Epoch 6 - Training Loss:  0.2669875161257634\n",
      "Epoch 7 - Training Loss:  0.23895362568800765\n",
      "Epoch 8 - Training Loss:  0.21506504590577408\n",
      "Epoch 9 - Training Loss:  0.19558734821278784\n",
      "Epoch 10 - Training Loss:  0.1782378531110757\n",
      "Epoch 11 - Training Loss:  0.1645679317736454\n",
      "Epoch 12 - Training Loss:  0.15248269471588102\n",
      "Epoch 13 - Training Loss:  0.1419765200855127\n",
      "Epoch 14 - Training Loss:  0.13190563826132684\n",
      "Epoch 15 - Training Loss:  0.12351589890192947\n",
      "Epoch 16 - Training Loss:  0.11570171539737249\n",
      "Epoch 17 - Training Loss:  0.10843351974424079\n",
      "Epoch 18 - Training Loss:  0.10217347246473596\n",
      "Epoch 19 - Training Loss:  0.09627431558955436\n",
      "Epoch 20 - Training Loss:  0.09143862383924663\n",
      "Epoch 21 - Training Loss:  0.0860861227093046\n",
      "Epoch 22 - Training Loss:  0.08154577245689563\n",
      "Epoch 23 - Training Loss:  0.0773973977347133\n",
      "Epoch 24 - Training Loss:  0.07332326202337612\n",
      "Epoch 25 - Training Loss:  0.06955994764464035\n",
      "Epoch 26 - Training Loss:  0.06607796139528614\n",
      "Epoch 27 - Training Loss:  0.063224138482027\n",
      "Epoch 28 - Training Loss:  0.05927803529414541\n",
      "Epoch 29 - Training Loss:  0.05703065409384636\n",
      "Epoch 30 - Training Loss:  0.05490107900862183\n",
      "Epoch 31 - Training Loss:  0.05213320136158618\n",
      "Epoch 32 - Training Loss:  0.04925152490105131\n",
      "Epoch 33 - Training Loss:  0.047195865871952666\n",
      "Epoch 34 - Training Loss:  0.04517831186950604\n",
      "Epoch 35 - Training Loss:  0.042931005590037305\n",
      "Epoch 36 - Training Loss:  0.0411688154114029\n",
      "Epoch 37 - Training Loss:  0.039004550122820746\n",
      "Epoch 38 - Training Loss:  0.03744609695998257\n",
      "Epoch 39 - Training Loss:  0.03605548628190878\n",
      "Epoch 40 - Training Loss:  0.03374733146417068\n",
      "Epoch 41 - Training Loss:  0.03284143149129935\n",
      "Epoch 42 - Training Loss:  0.03054591108844288\n",
      "Epoch 43 - Training Loss:  0.030286509766931466\n",
      "Epoch 44 - Training Loss:  0.027996013312340418\n",
      "Epoch 45 - Training Loss:  0.026647486627712023\n",
      "Epoch 46 - Training Loss:  0.025576562773975443\n",
      "Epoch 47 - Training Loss:  0.024744861930765624\n",
      "Epoch 48 - Training Loss:  0.023114172044519914\n",
      "Epoch 49 - Training Loss:  0.022361791616842857\n",
      "Epoch 50 - Training Loss:  0.021352174708858997\n"
     ]
    }
   ],
   "source": [
    "#hyperparameter changes: added extra hidden layer with ReLU, decreased lr, increased momentum, increased epochs\n",
    "\n",
    "network = nn.Sequential(nn.Flatten(1, -1),\n",
    "                        nn.Linear(784, 256),\n",
    "                        nn.ReLU(),\n",
    "                        nn.Linear(256, 128),\n",
    "                        nn.ReLU(),\n",
    "                        nn.Linear(128, 64),\n",
    "                        nn.ReLU(),\n",
    "                        nn.Linear(64, 10),\n",
    "                        nn.LogSoftmax(dim=1))\n",
    "\n",
    "device = torch.device(\"cuda\" if torch.cuda.is_available() else \"cpu\")\n",
    "\n",
    "optimizer = optim.SGD(network.parameters(), lr=0.003, momentum=0.6)\n",
    "criterion = nn.NLLLoss()\n",
    "\n",
    "network.to(device)\n",
    "\n",
    "epochs = 50\n",
    "losses = []\n",
    "\n",
    "for e in range(epochs):\n",
    "    running_loss = 0\n",
    "    for images, labels in trainData:\n",
    "        images, labels = images.to(device), labels.to(device)\n",
    "        optimizer.zero_grad()\n",
    "        \n",
    "        output = network(images)\n",
    "        loss = criterion(output, labels)\n",
    "        loss.backward()\n",
    "        optimizer.step()\n",
    "        running_loss += loss.item()\n",
    "        \n",
    "    else:\n",
    "        print(\"Epoch\", e+1, \"- Training Loss: \", running_loss/len(trainData))\n",
    "        losses.append(running_loss/len(trainData))"
   ]
  },
  {
   "cell_type": "code",
   "execution_count": 23,
   "metadata": {},
   "outputs": [
    {
     "data": {
      "image/png": "[encoded data removed]",
      "text/plain": [
       "<Figure size 432x288 with 1 Axes>"
      ]
     },
     "metadata": {
      "needs_background": "light"
     },
     "output_type": "display_data"
    }
   ],
   "source": [
    "plt.plot(losses);\n",
    "plt.title(\"Training Loss over Time\");\n",
    "plt.xlabel(\"Epoch Number\");\n",
    "plt.ylabel(\"Training Loss\");"
   ]
  },
  {
   "cell_type": "code",
   "execution_count": 24,
   "metadata": {},
   "outputs": [
    {
     "name": "stdout",
     "output_type": "stream",
     "text": [
      "Accuracy: 97.66 %\n",
      "Number Correct: 9766 Total: 10000\n"
     ]
    }
   ],
   "source": [
    "correct = total = 0\n",
    "\n",
    "for images, labels in testData:\n",
    "  for i in range(len(labels)):\n",
    "    img = images[i].view(1, 784)\n",
    "    with torch.no_grad():\n",
    "        logprobs = network(img.cuda())\n",
    "\n",
    "    probs = torch.exp(logprobs)\n",
    "    probablist = list(probs.cpu().numpy()[0])\n",
    "    pred_label = probablist.index(max(probablist))\n",
    "    true_label = labels.numpy()[i]\n",
    "    \n",
    "    if(true_label == pred_label):\n",
    "      correct += 1\n",
    "    total += 1\n",
    "\n",
    "print(\"Accuracy:\", round(correct/total*100, 2), \"%\")\n",
    "print(\"Number Correct:\", correct, \"Total:\", total)"
   ]
  },
  {
   "cell_type": "markdown",
   "metadata": {},
   "source": [
    "## Saving your model\n",
    "Using `torch.save`, save your model for future loading."
   ]
  },
  {
   "cell_type": "code",
   "execution_count": 25,
   "metadata": {},
   "outputs": [],
   "source": [
    "torch.save(network, './model.pt') "
   ]
  }
 ],
 "metadata": {
  "kernelspec": {
   "display_name": "Python 3",
   "language": "python",
   "name": "python3"
  },
  "language_info": {
   "codemirror_mode": {
    "name": "ipython",
    "version": 3
   },
   "file_extension": ".py",
   "mimetype": "text/x-python",
   "name": "python",
   "nbconvert_exporter": "python",
   "pygments_lexer": "ipython3",
   "version": "3.7.6"
  }
 },
 "nbformat": 4,
 "nbformat_minor": 4
}
